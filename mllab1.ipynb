{
 "cells": [
  {
   "cell_type": "code",
   "execution_count": 1,
   "id": "ffbb2989",
   "metadata": {},
   "outputs": [
    {
     "name": "stdout",
     "output_type": "stream",
     "text": [
      "helloop\n",
      "the vowels are 3\n",
      "the consonents are 4\n"
     ]
    }
   ],
   "source": [
    "s=str(input())\n",
    "\n",
    "n=len(s)\n",
    "count1=0\n",
    "count2=0\n",
    "for i in range(n):\n",
    "    if s[i]==\"a\":\n",
    "        count1+=1\n",
    "        i+=1\n",
    "    elif s[i]==\"e\":\n",
    "        count1+=1\n",
    "        i+=1\n",
    "    elif s[i]==\"i\":\n",
    "        count1+=1\n",
    "        i+=1\n",
    "    elif s[i]==\"o\":\n",
    "        count1+=1\n",
    "        i+=1\n",
    "    elif s[i]==\"u\":\n",
    "        count1+=1\n",
    "        i+=1\n",
    "    else:\n",
    "        count2+=1\n",
    "        i+=1\n",
    "print(\"the vowels are\",count1)\n",
    "print(\"the consonents are\",count2)\n",
    "        \n",
    "        "
   ]
  },
  {
   "cell_type": "code",
   "execution_count": 2,
   "id": "ef80d2c5",
   "metadata": {},
   "outputs": [
    {
     "name": "stdout",
     "output_type": "stream",
     "text": [
      "1\n"
     ]
    }
   ],
   "source": [
    "l1=[1,2,3,4]\n",
    "l2=[2,5,8,9]\n",
    "n=len(l1)\n",
    "m=len(l2)\n",
    "count=0\n",
    "for i in range(n):\n",
    "    for j in range(m):\n",
    "        if l1[i]==l2[j]:\n",
    "            count=count+1\n",
    "            j+=1\n",
    "    i+=1\n",
    "print(count)"
   ]
  },
  {
   "cell_type": "markdown",
   "id": "7b85268f",
   "metadata": {},
   "source": []
  },
  {
   "cell_type": "markdown",
   "id": "87e86291",
   "metadata": {},
   "source": []
  },
  {
   "cell_type": "code",
   "execution_count": 5,
   "id": "edff12ef",
   "metadata": {},
   "outputs": [
    {
     "name": "stdout",
     "output_type": "stream",
     "text": [
      "enter the no of rows:\n",
      "3\n",
      "enter the no of coulmns:\n",
      "3\n",
      "1\n",
      "2\n",
      "3\n",
      "4\n",
      "5\n",
      "6\n",
      "7\n",
      "8\n",
      "9\n",
      "1 2 3 \n",
      "4 5 6 \n",
      "7 8 9 \n",
      "the transpose of this matrix is:\n",
      "1 4 7 \n",
      "2 5 8 \n",
      "3 6 9 \n"
     ]
    }
   ],
   "source": [
    "l=[]\n",
    "print(\"enter the no of rows:\") \n",
    "n=int(input())\n",
    "print(\"enter the no of coulmns:\")\n",
    "m=int(input()) \n",
    "for i in range(n): \n",
    "        a=[] \n",
    "        for j in range(m): \n",
    "            a.append(int(input())) \n",
    "        l.append(a)\n",
    "\n",
    "for i in range(n):\n",
    "    for j in range(m):\n",
    "        print(l[i][j],end=\" \") \n",
    "    print() \n",
    "print(\"the transpose of this matrix is:\") \n",
    "c=[] \n",
    "for i in range(n): \n",
    "    b=[] \n",
    "    for j in range(m): \n",
    "        b.append(l[j][i]) \n",
    "    c.append(b) \n",
    "for i in range(n): \n",
    "    for j in range(m):\n",
    "        print(c[i][j],end=\" \") \n",
    "    print()"
   ]
  },
  {
   "cell_type": "code",
   "execution_count": 7,
   "id": "63a646a1",
   "metadata": {},
   "outputs": [
    {
     "name": "stdout",
     "output_type": "stream",
     "text": [
      "enter number of rows of first matrix \n",
      "2\n",
      "enter number of columns of first matrix \n",
      "2\n",
      "enter number of rows of second matrix \n",
      "2\n",
      "enter number of columns of second matrix \n",
      "2\n",
      "1\n",
      "2\n",
      "3\n",
      "4\n",
      "1\n",
      "2\n",
      "3\n",
      "4\n",
      "[[7, 10], [15, 22]]\n"
     ]
    }
   ],
   "source": [
    "def qn2(matrix1 , matrix2):\n",
    "\n",
    "  row1=len(matrix1)\n",
    "  col1=len(matrix1[0])\n",
    "  row2=len(matrix2)\n",
    "  col2=len(matrix2[0])\n",
    "\n",
    "  product=[]\n",
    "  for i in range(row1):\n",
    "    row=[]\n",
    "    for j in range(col2):\n",
    "      row.append(0)\n",
    "    product.append(row)\n",
    "\n",
    "  for i in range(row1):\n",
    "    for j in range(col2):\n",
    "      for k in range(col1):\n",
    "        product[i][j]=product[i][j]+(matrix1[i][k]*matrix2[k][j])\n",
    "  print(product)\n",
    "\n",
    "\n",
    "\n",
    "row1=int(input(\"enter number of rows of first matrix \\n\"))\n",
    "col1=int(input(\"enter number of columns of first matrix \\n\"))\n",
    "row2=int(input(\"enter number of rows of second matrix \\n\"))\n",
    "col2=int(input(\"enter number of columns of second matrix \\n\"))\n",
    "if row2==col1:\n",
    "  \n",
    "  matrix1=[]\n",
    "  for i in range(row1):\n",
    "    row=[]\n",
    "    for j in range(col1):\n",
    "      row.append(int(input()))\n",
    "    matrix1.append(row)\n",
    "\n",
    "  matrix2=[]\n",
    "  for i in range(row2):\n",
    "    row=[]\n",
    "    for j in range(col2):\n",
    "      row.append(int(input()))\n",
    "    matrix2.append(row)\n",
    "  qn2(matrix1 , matrix2)\n",
    "else:\n",
    "    print(\"product not possible\")"
   ]
  },
  {
   "cell_type": "markdown",
   "id": "cd5e068a",
   "metadata": {},
   "source": [
    "### "
   ]
  }
 ],
 "metadata": {
  "kernelspec": {
   "display_name": "Python 3 (ipykernel)",
   "language": "python",
   "name": "python3"
  },
  "language_info": {
   "codemirror_mode": {
    "name": "ipython",
    "version": 3
   },
   "file_extension": ".py",
   "mimetype": "text/x-python",
   "name": "python",
   "nbconvert_exporter": "python",
   "pygments_lexer": "ipython3",
   "version": "3.11.4"
  }
 },
 "nbformat": 4,
 "nbformat_minor": 5
}
